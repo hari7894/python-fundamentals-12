{
 "cells": [
  {
   "cell_type": "code",
   "execution_count": 1,
   "metadata": {},
   "outputs": [],
   "source": [
    "#type of arguments"
   ]
  },
  {
   "cell_type": "code",
   "execution_count": 11,
   "metadata": {},
   "outputs": [],
   "source": [
    "def describe_gender(sex,name):\n",
    "    if sex=='male':\n",
    "        print(f\"he is a {sex}\")\n",
    "        print(f\"\\nhis name is {name}\")\n",
    "    else:\n",
    "        print(f\"she is a {sex}\")\n",
    "        print(f\"\\nher name is {name}\")"
   ]
  },
  {
   "cell_type": "code",
   "execution_count": 12,
   "metadata": {},
   "outputs": [
    {
     "name": "stdout",
     "output_type": "stream",
     "text": [
      "he is a male\n",
      "\n",
      "his name is hari\n"
     ]
    }
   ],
   "source": [
    "describe_gender('male','hari')"
   ]
  },
  {
   "cell_type": "code",
   "execution_count": 13,
   "metadata": {},
   "outputs": [
    {
     "name": "stdout",
     "output_type": "stream",
     "text": [
      "she is a female\n",
      "\n",
      "her name is jyo\n"
     ]
    }
   ],
   "source": [
    "describe_gender('female','jyo')"
   ]
  },
  {
   "cell_type": "code",
   "execution_count": 14,
   "metadata": {},
   "outputs": [],
   "source": [
    "#position arguments"
   ]
  },
  {
   "cell_type": "code",
   "execution_count": 15,
   "metadata": {},
   "outputs": [
    {
     "name": "stdout",
     "output_type": "stream",
     "text": [
      "he is a male\n",
      "\n",
      "his name is hari\n"
     ]
    }
   ],
   "source": [
    "describe_gender(sex='male',name='hari')"
   ]
  },
  {
   "cell_type": "code",
   "execution_count": 16,
   "metadata": {},
   "outputs": [],
   "source": [
    "def describe_gender(sex,name='hari'):\n",
    "    if sex=='male':\n",
    "        print(f\"he is a {sex}\")\n",
    "        print(f\"\\nhis name is {name}\")\n",
    "    else:\n",
    "        print(f\"she is a {sex}\")\n",
    "        print(f\"\\nher name is {name}\")"
   ]
  },
  {
   "cell_type": "code",
   "execution_count": 17,
   "metadata": {},
   "outputs": [
    {
     "name": "stdout",
     "output_type": "stream",
     "text": [
      "he is a male\n",
      "\n",
      "his name is hari\n"
     ]
    }
   ],
   "source": [
    "describe_gender('male')"
   ]
  },
  {
   "cell_type": "code",
   "execution_count": 18,
   "metadata": {},
   "outputs": [],
   "source": [
    "def describe_gender(name,sex='male'):\n",
    "    if sex=='male':\n",
    "        print(f\"he is a {sex}\")\n",
    "        print(f\"\\nhis name is {name}\")\n",
    "    else:\n",
    "        print(f\"she is a {sex}\")\n",
    "        print(f\"\\nher name is {name}\")"
   ]
  },
  {
   "cell_type": "code",
   "execution_count": 19,
   "metadata": {},
   "outputs": [
    {
     "name": "stdout",
     "output_type": "stream",
     "text": [
      "he is a male\n",
      "\n",
      "his name is hari\n"
     ]
    }
   ],
   "source": [
    "describe_gender('hari')"
   ]
  },
  {
   "cell_type": "code",
   "execution_count": null,
   "metadata": {},
   "outputs": [],
   "source": []
  }
 ],
 "metadata": {
  "kernelspec": {
   "display_name": "Python 3",
   "language": "python",
   "name": "python3"
  },
  "language_info": {
   "codemirror_mode": {
    "name": "ipython",
    "version": 3
   },
   "file_extension": ".py",
   "mimetype": "text/x-python",
   "name": "python",
   "nbconvert_exporter": "python",
   "pygments_lexer": "ipython3",
   "version": "3.7.6"
  }
 },
 "nbformat": 4,
 "nbformat_minor": 4
}
